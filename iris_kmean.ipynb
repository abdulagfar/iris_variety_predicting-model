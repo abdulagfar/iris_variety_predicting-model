{
 "cells": [
  {
   "cell_type": "code",
   "execution_count": 2,
   "metadata": {},
   "outputs": [],
   "source": [
    "#defining packages\n",
    "\n",
    "import pandas as pd\n",
    "import numpy as np\n",
    "\n",
    "from sklearn import svm\n",
    "\n",
    "\n",
    "import matplotlib.pyplot as plt\n",
    "import seaborn as sns; sns.set(font_scale=1.2)\n",
    "\n",
    "\n",
    "%matplotlib inline"
   ]
  },
  {
   "cell_type": "code",
   "execution_count": 21,
   "metadata": {},
   "outputs": [
    {
     "name": "stdout",
     "output_type": "stream",
     "text": [
      "     sepal.length  sepal.width  petal.length  petal.width    variety\n",
      "0             5.1          3.5           1.4          0.2     Setosa\n",
      "1             4.9          3.0           1.4          0.2     Setosa\n",
      "2             4.7          3.2           1.3          0.2     Setosa\n",
      "3             4.6          3.1           1.5          0.2     Setosa\n",
      "4             5.0          3.6           1.4          0.2     Setosa\n",
      "5             5.4          3.9           1.7          0.4     Setosa\n",
      "6             4.6          3.4           1.4          0.3     Setosa\n",
      "7             5.0          3.4           1.5          0.2     Setosa\n",
      "8             4.4          2.9           1.4          0.2     Setosa\n",
      "9             4.9          3.1           1.5          0.1     Setosa\n",
      "10            5.4          3.7           1.5          0.2     Setosa\n",
      "11            4.8          3.4           1.6          0.2     Setosa\n",
      "12            4.8          3.0           1.4          0.1     Setosa\n",
      "13            4.3          3.0           1.1          0.1     Setosa\n",
      "14            5.8          4.0           1.2          0.2     Setosa\n",
      "15            5.7          4.4           1.5          0.4     Setosa\n",
      "16            5.4          3.9           1.3          0.4     Setosa\n",
      "17            5.1          3.5           1.4          0.3     Setosa\n",
      "18            5.7          3.8           1.7          0.3     Setosa\n",
      "19            5.1          3.8           1.5          0.3     Setosa\n",
      "20            5.4          3.4           1.7          0.2     Setosa\n",
      "21            5.1          3.7           1.5          0.4     Setosa\n",
      "22            4.6          3.6           1.0          0.2     Setosa\n",
      "23            5.1          3.3           1.7          0.5     Setosa\n",
      "24            4.8          3.4           1.9          0.2     Setosa\n",
      "25            5.0          3.0           1.6          0.2     Setosa\n",
      "26            5.0          3.4           1.6          0.4     Setosa\n",
      "27            5.2          3.5           1.5          0.2     Setosa\n",
      "28            5.2          3.4           1.4          0.2     Setosa\n",
      "29            4.7          3.2           1.6          0.2     Setosa\n",
      "..            ...          ...           ...          ...        ...\n",
      "120           6.9          3.2           5.7          2.3  Virginica\n",
      "121           5.6          2.8           4.9          2.0  Virginica\n",
      "122           7.7          2.8           6.7          2.0  Virginica\n",
      "123           6.3          2.7           4.9          1.8  Virginica\n",
      "124           6.7          3.3           5.7          2.1  Virginica\n",
      "125           7.2          3.2           6.0          1.8  Virginica\n",
      "126           6.2          2.8           4.8          1.8  Virginica\n",
      "127           6.1          3.0           4.9          1.8  Virginica\n",
      "128           6.4          2.8           5.6          2.1  Virginica\n",
      "129           7.2          3.0           5.8          1.6  Virginica\n",
      "130           7.4          2.8           6.1          1.9  Virginica\n",
      "131           7.9          3.8           6.4          2.0  Virginica\n",
      "132           6.4          2.8           5.6          2.2  Virginica\n",
      "133           6.3          2.8           5.1          1.5  Virginica\n",
      "134           6.1          2.6           5.6          1.4  Virginica\n",
      "135           7.7          3.0           6.1          2.3  Virginica\n",
      "136           6.3          3.4           5.6          2.4  Virginica\n",
      "137           6.4          3.1           5.5          1.8  Virginica\n",
      "138           6.0          3.0           4.8          1.8  Virginica\n",
      "139           6.9          3.1           5.4          2.1  Virginica\n",
      "140           6.7          3.1           5.6          2.4  Virginica\n",
      "141           6.9          3.1           5.1          2.3  Virginica\n",
      "142           5.8          2.7           5.1          1.9  Virginica\n",
      "143           6.8          3.2           5.9          2.3  Virginica\n",
      "144           6.7          3.3           5.7          2.5  Virginica\n",
      "145           6.7          3.0           5.2          2.3  Virginica\n",
      "146           6.3          2.5           5.0          1.9  Virginica\n",
      "147           6.5          3.0           5.2          2.0  Virginica\n",
      "148           6.2          3.4           5.4          2.3  Virginica\n",
      "149           5.9          3.0           5.1          1.8  Virginica\n",
      "\n",
      "[150 rows x 5 columns]\n"
     ]
    }
   ],
   "source": [
    "iris_data=pd.read_csv(\"dataset/iris.csv\")\n",
    "print(iris_data)"
   ]
  },
  {
   "cell_type": "code",
   "execution_count": 19,
   "metadata": {},
   "outputs": [
    {
     "data": {
      "text/plain": [
       "<seaborn.axisgrid.FacetGrid at 0x7f7b520ca3c8>"
      ]
     },
     "execution_count": 19,
     "metadata": {},
     "output_type": "execute_result"
    },
    {
     "data": {
      "image/png": "[encoded data removed]",
      "text/plain": [
       "<Figure size 473.629x360 with 1 Axes>"
      ]
     },
     "metadata": {
      "needs_background": "light"
     },
     "output_type": "display_data"
    }
   ],
   "source": [
    "#plot\n",
    "\n",
    "sns.lmplot(\"sepal.width\",\"petal.length\",data=iris_data,\n",
    "           hue=\"variety\",palette=\"Set1\",fit_reg=False,scatter_kws={\"s\":50})"
   ]
  },
  {
   "cell_type": "code",
   "execution_count": 9,
   "metadata": {},
   "outputs": [
    {
     "name": "stdout",
     "output_type": "stream",
     "text": [
      "varity /n [0 0 0 0 0 0 0 0 0 0 0 0 0 0 0 0 0 0 0 0 0 0 0 0 0 0 0 0 0 0 0 0 0 0 0 0 0\n",
      " 0 0 0 0 0 0 0 0 0 0 0 0 0 1 1 1 1 1 1 1 1 1 1 1 1 1 1 1 1 1 1 1 1 1 1 1 1\n",
      " 1 1 1 1 1 1 1 1 1 1 1 1 1 1 1 1 1 1 1 1 1 1 1 1 1 1 1 1 1 1 1 1 1 1 1 1 1\n",
      " 1 1 1 1 1 1 1 1 1 1 1 1 1 1 1 1 1 1 1 1 1 1 1 1 1 1 1 1 1 1 1 1 1 1 1 1 1\n",
      " 1 1]\n",
      "[[3.5 1.4]\n",
      " [3.  1.4]\n",
      " [3.2 1.3]\n",
      " [3.1 1.5]\n",
      " [3.6 1.4]\n",
      " [3.9 1.7]\n",
      " [3.4 1.4]\n",
      " [3.4 1.5]\n",
      " [2.9 1.4]\n",
      " [3.1 1.5]\n",
      " [3.7 1.5]\n",
      " [3.4 1.6]\n",
      " [3.  1.4]\n",
      " [3.  1.1]\n",
      " [4.  1.2]\n",
      " [4.4 1.5]\n",
      " [3.9 1.3]\n",
      " [3.5 1.4]\n",
      " [3.8 1.7]\n",
      " [3.8 1.5]\n",
      " [3.4 1.7]\n",
      " [3.7 1.5]\n",
      " [3.6 1. ]\n",
      " [3.3 1.7]\n",
      " [3.4 1.9]\n",
      " [3.  1.6]\n",
      " [3.4 1.6]\n",
      " [3.5 1.5]\n",
      " [3.4 1.4]\n",
      " [3.2 1.6]\n",
      " [3.1 1.6]\n",
      " [3.4 1.5]\n",
      " [4.1 1.5]\n",
      " [4.2 1.4]\n",
      " [3.1 1.5]\n",
      " [3.2 1.2]\n",
      " [3.5 1.3]\n",
      " [3.6 1.4]\n",
      " [3.  1.3]\n",
      " [3.4 1.5]\n",
      " [3.5 1.3]\n",
      " [2.3 1.3]\n",
      " [3.2 1.3]\n",
      " [3.5 1.6]\n",
      " [3.8 1.9]\n",
      " [3.  1.4]\n",
      " [3.8 1.6]\n",
      " [3.2 1.4]\n",
      " [3.7 1.5]\n",
      " [3.3 1.4]\n",
      " [3.2 4.7]\n",
      " [3.2 4.5]\n",
      " [3.1 4.9]\n",
      " [2.3 4. ]\n",
      " [2.8 4.6]\n",
      " [2.8 4.5]\n",
      " [3.3 4.7]\n",
      " [2.4 3.3]\n",
      " [2.9 4.6]\n",
      " [2.7 3.9]\n",
      " [2.  3.5]\n",
      " [3.  4.2]\n",
      " [2.2 4. ]\n",
      " [2.9 4.7]\n",
      " [2.9 3.6]\n",
      " [3.1 4.4]\n",
      " [3.  4.5]\n",
      " [2.7 4.1]\n",
      " [2.2 4.5]\n",
      " [2.5 3.9]\n",
      " [3.2 4.8]\n",
      " [2.8 4. ]\n",
      " [2.5 4.9]\n",
      " [2.8 4.7]\n",
      " [2.9 4.3]\n",
      " [3.  4.4]\n",
      " [2.8 4.8]\n",
      " [3.  5. ]\n",
      " [2.9 4.5]\n",
      " [2.6 3.5]\n",
      " [2.4 3.8]\n",
      " [2.4 3.7]\n",
      " [2.7 3.9]\n",
      " [2.7 5.1]\n",
      " [3.  4.5]\n",
      " [3.4 4.5]\n",
      " [3.1 4.7]\n",
      " [2.3 4.4]\n",
      " [3.  4.1]\n",
      " [2.5 4. ]\n",
      " [2.6 4.4]\n",
      " [3.  4.6]\n",
      " [2.6 4. ]\n",
      " [2.3 3.3]\n",
      " [2.7 4.2]\n",
      " [3.  4.2]\n",
      " [2.9 4.2]\n",
      " [2.9 4.3]\n",
      " [2.5 3. ]\n",
      " [2.8 4.1]\n",
      " [3.3 6. ]\n",
      " [2.7 5.1]\n",
      " [3.  5.9]\n",
      " [2.9 5.6]\n",
      " [3.  5.8]\n",
      " [3.  6.6]\n",
      " [2.5 4.5]\n",
      " [2.9 6.3]\n",
      " [2.5 5.8]\n",
      " [3.6 6.1]\n",
      " [3.2 5.1]\n",
      " [2.7 5.3]\n",
      " [3.  5.5]\n",
      " [2.5 5. ]\n",
      " [2.8 5.1]\n",
      " [3.2 5.3]\n",
      " [3.  5.5]\n",
      " [3.8 6.7]\n",
      " [2.6 6.9]\n",
      " [2.2 5. ]\n",
      " [3.2 5.7]\n",
      " [2.8 4.9]\n",
      " [2.8 6.7]\n",
      " [2.7 4.9]\n",
      " [3.3 5.7]\n",
      " [3.2 6. ]\n",
      " [2.8 4.8]\n",
      " [3.  4.9]\n",
      " [2.8 5.6]\n",
      " [3.  5.8]\n",
      " [2.8 6.1]\n",
      " [3.8 6.4]\n",
      " [2.8 5.6]\n",
      " [2.8 5.1]\n",
      " [2.6 5.6]\n",
      " [3.  6.1]\n",
      " [3.4 5.6]\n",
      " [3.1 5.5]\n",
      " [3.  4.8]\n",
      " [3.1 5.4]\n",
      " [3.1 5.6]\n",
      " [3.1 5.1]\n",
      " [2.7 5.1]\n",
      " [3.2 5.9]\n",
      " [3.3 5.7]\n",
      " [3.  5.2]\n",
      " [2.5 5. ]\n",
      " [3.  5.2]\n",
      " [3.4 5.4]\n",
      " [3.  5.1]]\n"
     ]
    }
   ],
   "source": [
    "#DATA PRE-PROSSESING\n",
    "varity=np.where(iris_data[\"variety\"]==\"Setosa\",0,1 )\n",
    "print(f'varity /n {varity}')\n",
    "features=iris_data[[\"sepal.width\",\"petal.length\"]].values\n",
    "print(features)\n"
   ]
  },
  {
   "cell_type": "code",
   "execution_count": 14,
   "metadata": {},
   "outputs": [
    {
     "data": {
      "text/plain": [
       "SVC(C=1.0, cache_size=200, class_weight=None, coef0=0.0,\n",
       "    decision_function_shape='ovr', degree=3, gamma='auto_deprecated',\n",
       "    kernel='linear', max_iter=-1, probability=False, random_state=None,\n",
       "    shrinking=True, tol=0.001, verbose=False)"
      ]
     },
     "execution_count": 14,
     "metadata": {},
     "output_type": "execute_result"
    }
   ],
   "source": [
    "#fit model \n",
    "model=svm.SVC(kernel=\"linear\")\n",
    "model.fit(features,varity)\n"
   ]
  },
  {
   "cell_type": "code",
   "execution_count": 43,
   "metadata": {},
   "outputs": [],
   "source": [
    "def find_varity(s_width,p_length):\n",
    "    x=model.predict([[s_width,p_length]])\n",
    "    if x==0:\n",
    "        print(f\"you are looking for setosa{x}\")\n",
    "    else:\n",
    "        print(f\"you are looking for Virginica or Versicolor {x}\")\n",
    "        \n",
    "       "
   ]
  },
  {
   "cell_type": "code",
   "execution_count": null,
   "metadata": {},
   "outputs": [
    {
     "name": "stdout",
     "output_type": "stream",
     "text": [
      "enter the sepal width : 5\n",
      "enter the petal length : 5\n",
      "you are looking for Virginica or Versicolor [1]\n",
      "continue? enter y : y\n",
      "\n",
      " \n",
      "\n",
      "enter the sepal width : 5\n",
      "enter the petal length : .2\n",
      "you are looking for setosa[0]\n"
     ]
    }
   ],
   "source": [
    "x=\"y\"\n",
    "\n",
    "while(x==\"y\"):\n",
    "    s_width=float(input(\"enter the sepal width : \"))\n",
    "    p_length=float(input(\"enter the petal length : \"))\n",
    "    find_varity(s_width,p_length)\n",
    "    x=input(\"continue? enter y : \")\n",
    "    print(\"\\n \\n\")"
   ]
  }
 ],
 "metadata": {
  "kernelspec": {
   "display_name": "Python 3",
   "language": "python",
   "name": "python3"
  },
  "language_info": {
   "codemirror_mode": {
    "name": "ipython",
    "version": 3
   },
   "file_extension": ".py",
   "mimetype": "text/x-python",
   "name": "python",
   "nbconvert_exporter": "python",
   "pygments_lexer": "ipython3",
   "version": "3.6.8"
  }
 },
 "nbformat": 4,
 "nbformat_minor": 2
}
